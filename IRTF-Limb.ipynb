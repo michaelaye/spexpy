{
 "metadata": {
  "name": "",
  "signature": "sha256:c59a2839584b59230bcedfed88da00a46a8831a2a0aa8a82b643e89722aed4e8"
 },
 "nbformat": 3,
 "nbformat_minor": 0,
 "worksheets": [
  {
   "cells": [
    {
     "cell_type": "markdown",
     "metadata": {},
     "source": [
      "# Subarray determination"
     ]
    },
    {
     "cell_type": "code",
     "collapsed": false,
     "input": [
      "%pylab qt"
     ],
     "language": "python",
     "metadata": {},
     "outputs": [
      {
       "output_type": "stream",
       "stream": "stdout",
       "text": [
        "Populating the interactive namespace from numpy and matplotlib\n"
       ]
      }
     ],
     "prompt_number": 1
    },
    {
     "cell_type": "code",
     "collapsed": false,
     "input": [
      "rcParams['image.interpolation'] = 'nearest'\n",
      "rcParams['image.cmap'] = 'hot'"
     ],
     "language": "python",
     "metadata": {},
     "outputs": [],
     "prompt_number": 2
    },
    {
     "cell_type": "code",
     "collapsed": false,
     "input": [
      "import pyfits"
     ],
     "language": "python",
     "metadata": {},
     "outputs": [],
     "prompt_number": 3
    },
    {
     "cell_type": "markdown",
     "metadata": {},
     "source": [
      "## reading in filenames that are fits"
     ]
    },
    {
     "cell_type": "code",
     "collapsed": false,
     "input": [
      "fitsfiles = !ls /Users/maye/data/irtf/bigdog/scan4/limb*.fits"
     ],
     "language": "python",
     "metadata": {},
     "outputs": [],
     "prompt_number": 4
    },
    {
     "cell_type": "code",
     "collapsed": false,
     "input": [
      "# plot 1 test image\n",
      "data = pyfits.getdata(fitsfiles[0])\n",
      "imshow(data)\n",
      "plt.axis('off')"
     ],
     "language": "python",
     "metadata": {},
     "outputs": [
      {
       "metadata": {},
       "output_type": "pyout",
       "prompt_number": 5,
       "text": [
        "(-0.5, 1023.5, 649.5, -0.5)"
       ]
      }
     ],
     "prompt_number": 5
    },
    {
     "cell_type": "markdown",
     "metadata": {},
     "source": [
      "The next plot determines the best top row for where the data starts. As soon as the rows become indistinguishable no refraction from the slit should be visible anymore."
     ]
    },
    {
     "cell_type": "code",
     "collapsed": false,
     "input": [
      "for line in range(245,255):\n",
      "    plot(data[line, :], label=line)\n",
      "legend(loc='best')"
     ],
     "language": "python",
     "metadata": {},
     "outputs": [
      {
       "metadata": {},
       "output_type": "pyout",
       "prompt_number": 10,
       "text": [
        "<matplotlib.legend.Legend at 0x10dc26b10>"
       ]
      }
     ],
     "prompt_number": 10
    },
    {
     "cell_type": "markdown",
     "metadata": {},
     "source": [
      "We believe row 247 (the red line) still shows too many differences so we should include only above it. Now the same for the higher row number:"
     ]
    },
    {
     "cell_type": "code",
     "collapsed": false,
     "input": [
      "for line in range(390, 400):\n",
      "    plot(data[line, :], label=line)\n",
      "legend(loc='best')"
     ],
     "language": "python",
     "metadata": {},
     "outputs": [
      {
       "metadata": {},
       "output_type": "pyout",
       "prompt_number": 11,
       "text": [
        "<matplotlib.legend.Legend at 0x10dc26ad0>"
       ]
      }
     ],
     "prompt_number": 11
    },
    {
     "cell_type": "markdown",
     "metadata": {},
     "source": [
      "It looks like up to row 394 (0-indexing) the data is reliable.\n",
      "Creating an appropriate subframe reader:"
     ]
    },
    {
     "cell_type": "code",
     "collapsed": false,
     "input": [
      "def read_scan1(fname):\n",
      "    data = pyfits.getdata(fname, 0)\n",
      "    return data[248:394, :]"
     ],
     "language": "python",
     "metadata": {},
     "outputs": [],
     "prompt_number": 6
    },
    {
     "cell_type": "code",
     "collapsed": false,
     "input": [
      "data = read_scan1(fitsfiles[0])"
     ],
     "language": "python",
     "metadata": {},
     "outputs": [],
     "prompt_number": 7
    },
    {
     "cell_type": "code",
     "collapsed": false,
     "input": [
      "data.shape"
     ],
     "language": "python",
     "metadata": {},
     "outputs": [
      {
       "metadata": {},
       "output_type": "pyout",
       "prompt_number": 8,
       "text": [
        "(146, 1024)"
       ]
      }
     ],
     "prompt_number": 8
    },
    {
     "cell_type": "markdown",
     "metadata": {},
     "source": [
      "### Limb master\n",
      "Above shape is the shape of one spectral image.\n",
      "Now reading in all data into a 3D cube."
     ]
    },
    {
     "cell_type": "code",
     "collapsed": false,
     "input": [
      "cube = []\n",
      "for fitsfile in fitsfiles:\n",
      "    # fish out the image number from the filename\n",
      "    nr = int(fitsfile.split('-')[1][:5])\n",
      "    cube.append(read_scan1(fitsfile))\n",
      "    if nr > 104:\n",
      "        break\n",
      "# making a contiguous C-array out of the slow list container\n",
      "cube = np.array(cube)\n",
      "cube.shape"
     ],
     "language": "python",
     "metadata": {},
     "outputs": [
      {
       "metadata": {},
       "output_type": "pyout",
       "prompt_number": 9,
       "text": [
        "(51, 146, 1024)"
       ]
      }
     ],
     "prompt_number": 9
    },
    {
     "cell_type": "markdown",
     "metadata": {},
     "source": [
      "Above dimensions indicate that I have stacked 105 spectra with each 146x1024 pixels."
     ]
    },
    {
     "cell_type": "code",
     "collapsed": false,
     "input": [
      "limb_master = cube.mean(axis=0)\n",
      "limb_master.shape"
     ],
     "language": "python",
     "metadata": {},
     "outputs": [
      {
       "metadata": {},
       "output_type": "pyout",
       "prompt_number": 11,
       "text": [
        "(146, 1024)"
       ]
      }
     ],
     "prompt_number": 11
    },
    {
     "cell_type": "markdown",
     "metadata": {},
     "source": [
      "Again, the dimensions indicate the correct result that I averaged the first axis, and therefore have a 'moon_master' image:"
     ]
    },
    {
     "cell_type": "code",
     "collapsed": false,
     "input": [
      "imshow(limb_master, aspect='auto')\n",
      "colorbar(orientation='horizontal')\n",
      "savefig('limb_master.png', dpi=200)"
     ],
     "language": "python",
     "metadata": {},
     "outputs": [],
     "prompt_number": 12
    },
    {
     "cell_type": "code",
     "collapsed": false,
     "input": [
      "pwd"
     ],
     "language": "python",
     "metadata": {},
     "outputs": [
      {
       "metadata": {},
       "output_type": "pyout",
       "prompt_number": 18,
       "text": [
        "u'/Users/maye/Dropbox/src/diviner/notebooks'"
       ]
      }
     ],
     "prompt_number": 18
    },
    {
     "cell_type": "code",
     "collapsed": false,
     "input": [
      "from scipy.ndimage import median_filter"
     ],
     "language": "python",
     "metadata": {},
     "outputs": [],
     "prompt_number": 13
    },
    {
     "cell_type": "code",
     "collapsed": true,
     "input": [
      "imshow(limb_master, aspect='auto')\n",
      "colorbar(orientation='horizontal')\n",
      "title('Limb master raw')\n",
      "savefig('limb_master_original.png', dpi=200)"
     ],
     "language": "python",
     "metadata": {},
     "outputs": [],
     "prompt_number": 15
    },
    {
     "cell_type": "code",
     "collapsed": false,
     "input": [
      "limb_master_filtered = median_filter(limb_master, 2)"
     ],
     "language": "python",
     "metadata": {},
     "outputs": [],
     "prompt_number": 16
    },
    {
     "cell_type": "code",
     "collapsed": false,
     "input": [
      "imshow(limb_master_filtered, aspect='auto')\n",
      "colorbar(orientation='horizontal')\n",
      "title('Limb master median filter (size 2)')\n",
      "savefig('limb_master_median_filtered.png', dpi=200)"
     ],
     "language": "python",
     "metadata": {},
     "outputs": [],
     "prompt_number": 17
    },
    {
     "cell_type": "markdown",
     "metadata": {},
     "source": [
      "### Sky master\n",
      "Starting to read from 107 (106 might be okay as well)."
     ]
    },
    {
     "cell_type": "code",
     "collapsed": false,
     "input": [
      "cube = []\n",
      "for fitsfile in fitsfiles:\n",
      "    # fish out the image number from the filename\n",
      "    nr = int(fitsfile.split('-')[1][:5])\n",
      "    if nr < 107:\n",
      "        continue\n",
      "    cube.append(read_scan1(fitsfile))\n",
      "# making a contiguous C-array out of the slow list container\n",
      "sky_cube = np.array(cube)\n",
      "sky_cube.shape"
     ],
     "language": "python",
     "metadata": {},
     "outputs": [
      {
       "metadata": {},
       "output_type": "pyout",
       "prompt_number": 23,
       "text": [
        "(33, 146, 1024)"
       ]
      }
     ],
     "prompt_number": 23
    },
    {
     "cell_type": "code",
     "collapsed": false,
     "input": [
      "sky_master = sky_cube.mean(axis=0)\n",
      "sky_master.shape"
     ],
     "language": "python",
     "metadata": {},
     "outputs": [
      {
       "metadata": {},
       "output_type": "pyout",
       "prompt_number": 24,
       "text": [
        "(146, 1024)"
       ]
      }
     ],
     "prompt_number": 24
    },
    {
     "cell_type": "code",
     "collapsed": false,
     "input": [
      "imshow(sky_master, aspect='auto', vmax=20000)\n",
      "colorbar(orientation='horizontal')\n",
      "title('sky master, raw, clipping at 20000')\n",
      "savefig('sky_master_raw.png', dpi=200)"
     ],
     "language": "python",
     "metadata": {},
     "outputs": [],
     "prompt_number": 145
    },
    {
     "cell_type": "code",
     "collapsed": false,
     "input": [
      "# do a minimal pepper/salt filter\n",
      "sky_master_filtered = median_filter(sky_master, 3)"
     ],
     "language": "python",
     "metadata": {},
     "outputs": [],
     "prompt_number": 26
    },
    {
     "cell_type": "code",
     "collapsed": false,
     "input": [
      "imshow(sky_master_filtered, aspect='auto', vmax=20000)\n",
      "colorbar(orientation='horizontal')\n",
      "title('sky master, median size 3 filter, clipping at 20000')\n",
      "savefig('sky_master_median_filtered.png', dpi=200)"
     ],
     "language": "python",
     "metadata": {},
     "outputs": [],
     "prompt_number": 144
    },
    {
     "cell_type": "markdown",
     "metadata": {},
     "source": [
      "Taking an upper limit of 20000 counts to exclude hot pixels."
     ]
    },
    {
     "cell_type": "code",
     "collapsed": false,
     "input": [
      "sky_master_filtered[sky_master_filtered > 20000]= np.nan"
     ],
     "language": "python",
     "metadata": {},
     "outputs": [],
     "prompt_number": 28
    },
    {
     "cell_type": "markdown",
     "metadata": {},
     "source": [
      "## Regions\n",
      "For comparison with Raquel's analysis, I also will split the spatial region into 4 bands, each with 36 pixels width. First, let's substract the sky."
     ]
    },
    {
     "cell_type": "code",
     "collapsed": false,
     "input": [
      "master = moon_master_filtered - sky_master_filtered"
     ],
     "language": "python",
     "metadata": {},
     "outputs": [],
     "prompt_number": 29
    },
    {
     "cell_type": "code",
     "collapsed": false,
     "input": [
      "rcParams['image.aspect'] = 'auto'"
     ],
     "language": "python",
     "metadata": {},
     "outputs": [],
     "prompt_number": 18
    },
    {
     "cell_type": "code",
     "collapsed": false,
     "input": [
      "imshow(master)\n",
      "colorbar(orientation='horizontal')\n",
      "title('Background(\"sky\")-subtracted master')\n",
      "savefig('master_subtracted.png',dpi=200)"
     ],
     "language": "python",
     "metadata": {},
     "outputs": [],
     "prompt_number": 31
    },
    {
     "cell_type": "markdown",
     "metadata": {},
     "source": [
      "Now, having the master, let's cut out regions."
     ]
    },
    {
     "cell_type": "code",
     "collapsed": false,
     "input": [
      "master.shape"
     ],
     "language": "python",
     "metadata": {},
     "outputs": [
      {
       "metadata": {},
       "output_type": "pyout",
       "prompt_number": 32,
       "text": [
        "(146, 1024)"
       ]
      }
     ],
     "prompt_number": 32
    },
    {
     "cell_type": "code",
     "collapsed": false,
     "input": [
      "region1 = master[:36, :]\n",
      "region2 = master[37:73, :]\n",
      "region3 = master[74:110, :]\n",
      "region4 = master[110:,:]"
     ],
     "language": "python",
     "metadata": {},
     "outputs": [],
     "prompt_number": 33
    },
    {
     "cell_type": "code",
     "collapsed": false,
     "input": [
      "for region in [region1,region2,region3,region4]:\n",
      "    print region.shape"
     ],
     "language": "python",
     "metadata": {},
     "outputs": [
      {
       "output_type": "stream",
       "stream": "stdout",
       "text": [
        "(36, 1024)\n",
        "(36, 1024)\n",
        "(36, 1024)\n",
        "(36, 1024)\n"
       ]
      }
     ],
     "prompt_number": 34
    },
    {
     "cell_type": "code",
     "collapsed": false,
     "input": [
      "spec1 = region1.mean(axis=0)\n",
      "spec2 = region2.mean(axis=0)\n",
      "spec3 = region3.mean(axis=0)\n",
      "spec4 = region4.mean(axis=0)"
     ],
     "language": "python",
     "metadata": {},
     "outputs": [],
     "prompt_number": 35
    },
    {
     "cell_type": "code",
     "collapsed": false,
     "input": [
      "for i,spec in enumerate([spec1,spec2,spec3,spec4]):\n",
      "    plot(spec, label=i+1)\n",
      "legend(loc='best')\n",
      "title('master spectra for each region')\n",
      "savefig('master_spectra_in_counts.png',dpi=200)"
     ],
     "language": "python",
     "metadata": {},
     "outputs": [],
     "prompt_number": 36
    },
    {
     "cell_type": "code",
     "collapsed": false,
     "input": [
      "rcParams['lines.linewidth'] = 1.5"
     ],
     "language": "python",
     "metadata": {},
     "outputs": [],
     "prompt_number": 37
    },
    {
     "cell_type": "markdown",
     "metadata": {},
     "source": [
      "### Regions before subtracting."
     ]
    },
    {
     "cell_type": "code",
     "collapsed": false,
     "input": [
      "moon_regions = []\n",
      "moon_regions.append(limb_master_filtered[:36, :])\n",
      "moon_regions.append(limb_master_filtered[37:73, :])\n",
      "moon_regions.append(limb_master_filtered[74:110, :])\n",
      "moon_regions.append(limb_master_filtered[110:,:])"
     ],
     "language": "python",
     "metadata": {},
     "outputs": [],
     "prompt_number": 19
    },
    {
     "cell_type": "code",
     "collapsed": false,
     "input": [
      "sky_regions = []\n",
      "sky_regions.append(sky_master_filtered[:36, :])\n",
      "sky_regions.append(sky_master_filtered[37:73, :])\n",
      "sky_regions.append(sky_master_filtered[74:110, :])\n",
      "sky_regions.append(sky_master_filtered[110:, :])"
     ],
     "language": "python",
     "metadata": {},
     "outputs": [],
     "prompt_number": 47
    },
    {
     "cell_type": "code",
     "collapsed": false,
     "input": [
      "waves = pd.read_excel('lucy_spectral_cal.xlsx', parse_cols=0)"
     ],
     "language": "python",
     "metadata": {},
     "outputs": [],
     "prompt_number": 20
    },
    {
     "cell_type": "code",
     "collapsed": false,
     "input": [
      "for i, moon_region in enumerate(moon_regions):\n",
      "    plot(waves, moon_region.mean(axis=0), \n",
      "                 label='limb{}'.format(i+1))\n",
      "title('Limb regions master spectra')\n",
      "legend(loc='best')\n",
      "xlabel('Wavelengths [micron]')\n",
      "ylabel('Digital counts unscaled')\n",
      "savefig('limb_separated_regions.png', dpi=200)"
     ],
     "language": "python",
     "metadata": {},
     "outputs": [],
     "prompt_number": 22
    },
    {
     "cell_type": "code",
     "collapsed": false,
     "input": [
      "moon_masters = []\n",
      "for moon in moon_regions:\n",
      "    moon_masters.append(moon.mean(axis=0))"
     ],
     "language": "python",
     "metadata": {},
     "outputs": [],
     "prompt_number": 24
    },
    {
     "cell_type": "code",
     "collapsed": false,
     "input": [
      "for t in [(3,4),(2,4),(1,4), (2,3), (1,3), (1,2)]:\n",
      "    plot(waves, moon_masters[t[0]-1]/moon_masters[t[1]-1],\n",
      "                 label='{}/{}'.format(*t))\n",
      "title('Limb regional master spectra ratios')\n",
      "legend(loc='best')\n",
      "xlabel(\"Wavelengths [micron]\")\n",
      "savefig('individual_limb_ratios.png', dpi=200)"
     ],
     "language": "python",
     "metadata": {},
     "outputs": [],
     "prompt_number": 26
    },
    {
     "cell_type": "code",
     "collapsed": false,
     "input": [
      "fig, axes = subplots(nrows=1)\n",
      "for i in range(4):\n",
      "    axes.plot(waves, moon_masters[i]/sky_masters[i], label=i)\n",
      "axes.legend(loc='best')"
     ],
     "language": "python",
     "metadata": {},
     "outputs": [
      {
       "metadata": {},
       "output_type": "pyout",
       "prompt_number": 132,
       "text": [
        "<matplotlib.legend.Legend at 0x11f7adf90>"
       ]
      }
     ],
     "prompt_number": 132
    },
    {
     "cell_type": "code",
     "collapsed": false,
     "input": [
      "for i in range(0,1000, 100):\n",
      "    plot(moon_master[:, i:i+100].mean(axis=1), label=i)\n",
      "legend(loc='best')"
     ],
     "language": "python",
     "metadata": {},
     "outputs": [
      {
       "metadata": {},
       "output_type": "pyout",
       "prompt_number": 137,
       "text": [
        "<matplotlib.legend.Legend at 0x126a1b950>"
       ]
      }
     ],
     "prompt_number": 137
    },
    {
     "cell_type": "code",
     "collapsed": false,
     "input": [],
     "language": "python",
     "metadata": {},
     "outputs": []
    }
   ],
   "metadata": {}
  }
 ]
}