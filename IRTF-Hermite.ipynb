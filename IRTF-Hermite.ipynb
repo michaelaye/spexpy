{
 "metadata": {
  "name": "",
  "signature": "sha256:870ac46a80feb106ec8785d7a1c298e557219683afa5f8311cffd2cef662e63d"
 },
 "nbformat": 3,
 "nbformat_minor": 0,
 "worksheets": [
  {
   "cells": [
    {
     "cell_type": "markdown",
     "metadata": {},
     "source": [
      "This is the Python module that has the FITS reader (and writer)."
     ]
    },
    {
     "cell_type": "code",
     "collapsed": false,
     "input": [
      "import pyfits\n",
      "# some configuration for plotting the way I like it. Should really put this\n",
      "# into my general config file.\n",
      "%pylab qt\n",
      "rcParams['image.interpolation'] = 'nearest'\n",
      "rcParams['image.cmap'] = 'gray'\n",
      "rcParams['image.aspect'] = 'auto'"
     ],
     "language": "python",
     "metadata": {},
     "outputs": [
      {
       "output_type": "stream",
       "stream": "stdout",
       "text": [
        "Populating the interactive namespace from numpy and matplotlib\n"
       ]
      }
     ],
     "prompt_number": 23
    },
    {
     "cell_type": "markdown",
     "metadata": {},
     "source": [
      "## Reading in filenames that are fits\n",
      "For the run `scan5` we forgot to rename the filenames, so the data files are still called limb-xxx (from the run `scan4`) even so the data is from the Hermite crater, taken with the prism (in contrast to the grate we used for scan3 on day 1.)"
     ]
    },
    {
     "cell_type": "markdown",
     "metadata": {},
     "source": [
      "going to scan5 for now."
     ]
    },
    {
     "cell_type": "code",
     "collapsed": false,
     "input": [
      "fitsfiles = !ls /Users/maye/data/irtf/guidedog/scan4/fname*.fits"
     ],
     "language": "python",
     "metadata": {},
     "outputs": [],
     "prompt_number": 17
    },
    {
     "cell_type": "code",
     "collapsed": false,
     "input": [
      "def read_scan1(fname):\n",
      "    data = pyfits.getdata(fname, 0)\n",
      "    return data[248:394, :]"
     ],
     "language": "python",
     "metadata": {},
     "outputs": [],
     "prompt_number": 18
    },
    {
     "cell_type": "markdown",
     "metadata": {},
     "source": [
      "### Moon master\n",
      "Above shape is the shape of one spectral image.\n",
      "Now reading in all data into a 3D cube. The on_moon data goes until image number 104."
     ]
    },
    {
     "cell_type": "code",
     "collapsed": false,
     "input": [
      "pyfits.getheader(fitsfiles[0])['TIME_OBS']"
     ],
     "language": "python",
     "metadata": {},
     "outputs": [
      {
       "metadata": {},
       "output_type": "pyout",
       "prompt_number": 19,
       "text": [
        "'15:01:49.910650'"
       ]
      }
     ],
     "prompt_number": 19
    },
    {
     "cell_type": "code",
     "collapsed": false,
     "input": [
      "data = pyfits.getdata(fitsfiles[10])"
     ],
     "language": "python",
     "metadata": {},
     "outputs": [],
     "prompt_number": 40
    },
    {
     "cell_type": "code",
     "collapsed": false,
     "input": [
      "from scipy.ndimage import median_filter\n",
      "filtered = median_filter(data, 2)"
     ],
     "language": "python",
     "metadata": {},
     "outputs": [],
     "prompt_number": 41
    },
    {
     "cell_type": "code",
     "collapsed": false,
     "input": [
      "imshow(filtered, vmax=2000)"
     ],
     "language": "python",
     "metadata": {},
     "outputs": [
      {
       "metadata": {},
       "output_type": "pyout",
       "prompt_number": 42,
       "text": [
        "<matplotlib.image.AxesImage at 0x119101ad0>"
       ]
      }
     ],
     "prompt_number": 42
    },
    {
     "cell_type": "code",
     "collapsed": false,
     "input": [
      "hist(data.flatten(), 50, log=True)"
     ],
     "language": "python",
     "metadata": {},
     "outputs": [
      {
       "metadata": {},
       "output_type": "pyout",
       "prompt_number": 26,
       "text": [
        "(array([  1.00000000e+00,   4.00000000e+00,   2.20708000e+05,\n",
        "          3.29870000e+04,   6.96300000e+03,   1.27700000e+03,\n",
        "          1.01000000e+02,   1.20000000e+01,   1.00000000e+01,\n",
        "          8.00000000e+00,   4.00000000e+00,   6.00000000e+00,\n",
        "          3.00000000e+00,   3.00000000e+00,   4.00000000e+00,\n",
        "          5.00000000e+00,   6.00000000e+00,   5.00000000e+00,\n",
        "          2.00000000e+00,   2.00000000e+00,   1.00000000e+00,\n",
        "          2.00000000e+00,   1.00000000e+00,   4.00000000e+00,\n",
        "          1.00000000e+00,   1.00000000e+00,   6.00000000e+00,\n",
        "          1.00000000e+00,   1.00000000e+00,   2.00000000e+00,\n",
        "          1.00000000e+00,   1.00000000e+00,   2.00000000e+00,\n",
        "          0.00000000e+00,   1.00000000e+00,   3.00000000e+00,\n",
        "          2.00000000e+00,   0.00000000e+00,   0.00000000e+00,\n",
        "          1.00000000e+00,   0.00000000e+00,   1.00000000e+00,\n",
        "          0.00000000e+00,   0.00000000e+00,   0.00000000e+00,\n",
        "          0.00000000e+00,   0.00000000e+00,   0.00000000e+00,\n",
        "          0.00000000e+00,   1.00000000e+00]),\n",
        " array([  -875.  ,   -537.78,   -200.56,    136.66,    473.88,    811.1 ,\n",
        "          1148.32,   1485.54,   1822.76,   2159.98,   2497.2 ,   2834.42,\n",
        "          3171.64,   3508.86,   3846.08,   4183.3 ,   4520.52,   4857.74,\n",
        "          5194.96,   5532.18,   5869.4 ,   6206.62,   6543.84,   6881.06,\n",
        "          7218.28,   7555.5 ,   7892.72,   8229.94,   8567.16,   8904.38,\n",
        "          9241.6 ,   9578.82,   9916.04,  10253.26,  10590.48,  10927.7 ,\n",
        "         11264.92,  11602.14,  11939.36,  12276.58,  12613.8 ,  12951.02,\n",
        "         13288.24,  13625.46,  13962.68,  14299.9 ,  14637.12,  14974.34,\n",
        "         15311.56,  15648.78,  15986.  ]),\n",
        " <a list of 50 Patch objects>)"
       ]
      }
     ],
     "prompt_number": 26
    },
    {
     "cell_type": "code",
     "collapsed": false,
     "input": [
      "cube = []\n",
      "for fitsfile in fitsfiles:\n",
      "    # fish out the image number from the filename\n",
      "    nr = int(fitsfile.split('-')[1][:5])\n",
      "    cube.append(read_scan1(fitsfile))\n",
      "    if nr > 104:\n",
      "        break\n",
      "# making a contiguous C-array out of the slow list container\n",
      "cube = np.array(cube)\n",
      "cube.shape"
     ],
     "language": "python",
     "metadata": {},
     "outputs": [
      {
       "metadata": {},
       "output_type": "pyout",
       "prompt_number": 4,
       "text": [
        "(50, 146, 1024)"
       ]
      }
     ],
     "prompt_number": 4
    },
    {
     "cell_type": "code",
     "collapsed": false,
     "input": [],
     "language": "python",
     "metadata": {},
     "outputs": []
    },
    {
     "cell_type": "markdown",
     "metadata": {},
     "source": [
      "Above dimensions indicate that I have stacked 50 spectra with each 146x1024 pixels."
     ]
    },
    {
     "cell_type": "code",
     "collapsed": false,
     "input": [
      "moon_master = cube.mean(axis=0)\n",
      "moon_master.shape"
     ],
     "language": "python",
     "metadata": {},
     "outputs": [
      {
       "metadata": {},
       "output_type": "pyout",
       "prompt_number": 5,
       "text": [
        "(146, 1024)"
       ]
      }
     ],
     "prompt_number": 5
    },
    {
     "cell_type": "markdown",
     "metadata": {},
     "source": [
      "Again, the dimensions indicate the correct result that I averaged the first axis, resulting in an image with the same dimensions as each original spectral image.\n",
      "\n",
      "Now on to some filtering."
     ]
    },
    {
     "cell_type": "code",
     "collapsed": false,
     "input": [
      "from scipy.ndimage import median_filter"
     ],
     "language": "python",
     "metadata": {},
     "outputs": [],
     "prompt_number": 6
    },
    {
     "cell_type": "markdown",
     "metadata": {},
     "source": [
      "#### Moon master unfiltered"
     ]
    },
    {
     "cell_type": "code",
     "collapsed": true,
     "input": [
      "imshow(moon_master, aspect='auto')\n",
      "colorbar(orientation='horizontal')\n",
      "title('Moon master raw')\n",
      "savefig('moon_master_original.png', dpi=200)"
     ],
     "language": "python",
     "metadata": {},
     "outputs": [],
     "prompt_number": 143
    },
    {
     "cell_type": "markdown",
     "metadata": {},
     "source": [
      "#### Moon master filtered"
     ]
    },
    {
     "cell_type": "code",
     "collapsed": false,
     "input": [
      "moon_master_filtered = median_filter(moon_master, 2)"
     ],
     "language": "python",
     "metadata": {},
     "outputs": [],
     "prompt_number": 11
    },
    {
     "cell_type": "code",
     "collapsed": false,
     "input": [
      "imshow(moon_master_filtered, aspect='auto')\n",
      "colorbar(orientation='horizontal')\n",
      "title('Moon master median filter (size 2)')\n",
      "savefig('hermite_master_median_filtered.png', dpi=200)"
     ],
     "language": "python",
     "metadata": {},
     "outputs": [],
     "prompt_number": 12
    },
    {
     "cell_type": "markdown",
     "metadata": {},
     "source": [
      "### Sky master \n",
      "Unfortunately, we did not take off-moon sky data for scan5. So skipping this, but leave it in, maybe for later.\n",
      "\n",
      "Starting to read from 107 (106 might be okay as well)."
     ]
    },
    {
     "cell_type": "code",
     "collapsed": false,
     "input": [
      "cube = []\n",
      "for fitsfile in fitsfiles:\n",
      "    # fish out the image number from the filename\n",
      "    nr = int(fitsfile.split('-')[1][:5])\n",
      "    if nr < 107:\n",
      "        continue\n",
      "    cube.append(read_scan1(fitsfile))\n",
      "# making a contiguous C-array out of the slow list container\n",
      "sky_cube = np.array(cube)\n",
      "sky_cube.shape"
     ],
     "language": "python",
     "metadata": {},
     "outputs": [
      {
       "metadata": {},
       "output_type": "pyout",
       "prompt_number": 23,
       "text": [
        "(33, 146, 1024)"
       ]
      }
     ],
     "prompt_number": 23
    },
    {
     "cell_type": "code",
     "collapsed": false,
     "input": [
      "sky_master = sky_cube.mean(axis=0)\n",
      "sky_master.shape"
     ],
     "language": "python",
     "metadata": {},
     "outputs": [
      {
       "metadata": {},
       "output_type": "pyout",
       "prompt_number": 24,
       "text": [
        "(146, 1024)"
       ]
      }
     ],
     "prompt_number": 24
    },
    {
     "cell_type": "code",
     "collapsed": false,
     "input": [
      "imshow(sky_master, aspect='auto', vmax=20000)\n",
      "colorbar(orientation='horizontal')\n",
      "title('sky master, raw, clipping at 20000')\n",
      "savefig('sky_master_raw.png', dpi=200)"
     ],
     "language": "python",
     "metadata": {},
     "outputs": [],
     "prompt_number": 145
    },
    {
     "cell_type": "code",
     "collapsed": false,
     "input": [
      "# do a minimal pepper/salt filter\n",
      "sky_master_filtered = median_filter(sky_master, 3)"
     ],
     "language": "python",
     "metadata": {},
     "outputs": [],
     "prompt_number": 26
    },
    {
     "cell_type": "code",
     "collapsed": false,
     "input": [
      "imshow(sky_master_filtered, aspect='auto', vmax=20000)\n",
      "colorbar(orientation='horizontal')\n",
      "title('sky master, median size 3 filter, clipping at 20000')\n",
      "savefig('sky_master_median_filtered.png', dpi=200)"
     ],
     "language": "python",
     "metadata": {},
     "outputs": [],
     "prompt_number": 144
    },
    {
     "cell_type": "markdown",
     "metadata": {},
     "source": [
      "Taking an upper limit of 20000 counts to exclude hot pixels."
     ]
    },
    {
     "cell_type": "code",
     "collapsed": false,
     "input": [
      "sky_master_filtered[sky_master_filtered > 20000]= np.nan"
     ],
     "language": "python",
     "metadata": {},
     "outputs": [],
     "prompt_number": 28
    },
    {
     "cell_type": "markdown",
     "metadata": {},
     "source": [
      "## Regions\n",
      "Initially, I was subtracting the sky and only worked with the master, but Dave pointed out that it is important to keep looking at the sky data on it's own, so in the next section I do things separaed."
     ]
    },
    {
     "cell_type": "code",
     "collapsed": false,
     "input": [
      "master = moon_master_filtered - sky_master_filtered"
     ],
     "language": "python",
     "metadata": {},
     "outputs": [],
     "prompt_number": 29
    },
    {
     "cell_type": "code",
     "collapsed": false,
     "input": [
      "rcParams['image.aspect'] = 'auto'"
     ],
     "language": "python",
     "metadata": {},
     "outputs": [],
     "prompt_number": 30
    },
    {
     "cell_type": "code",
     "collapsed": false,
     "input": [
      "imshow(master)\n",
      "colorbar(orientation='horizontal')\n",
      "title('Background(\"sky\")-subtracted master')\n",
      "savefig('master_subtracted.png',dpi=200)"
     ],
     "language": "python",
     "metadata": {},
     "outputs": [],
     "prompt_number": 31
    },
    {
     "cell_type": "markdown",
     "metadata": {},
     "source": [
      "Now, having the master, let's cut out regions."
     ]
    },
    {
     "cell_type": "code",
     "collapsed": false,
     "input": [
      "master.shape"
     ],
     "language": "python",
     "metadata": {},
     "outputs": [
      {
       "metadata": {},
       "output_type": "pyout",
       "prompt_number": 32,
       "text": [
        "(146, 1024)"
       ]
      }
     ],
     "prompt_number": 32
    },
    {
     "cell_type": "code",
     "collapsed": false,
     "input": [
      "region1 = master[:36, :]\n",
      "region2 = master[37:73, :]\n",
      "region3 = master[74:110, :]\n",
      "region4 = master[110:,:]"
     ],
     "language": "python",
     "metadata": {},
     "outputs": [],
     "prompt_number": 33
    },
    {
     "cell_type": "code",
     "collapsed": false,
     "input": [
      "for region in [region1,region2,region3,region4]:\n",
      "    print region.shape"
     ],
     "language": "python",
     "metadata": {},
     "outputs": [
      {
       "output_type": "stream",
       "stream": "stdout",
       "text": [
        "(36, 1024)\n",
        "(36, 1024)\n",
        "(36, 1024)\n",
        "(36, 1024)\n"
       ]
      }
     ],
     "prompt_number": 34
    },
    {
     "cell_type": "code",
     "collapsed": false,
     "input": [
      "spec1 = region1.mean(axis=0)\n",
      "spec2 = region2.mean(axis=0)\n",
      "spec3 = region3.mean(axis=0)\n",
      "spec4 = region4.mean(axis=0)"
     ],
     "language": "python",
     "metadata": {},
     "outputs": [],
     "prompt_number": 35
    },
    {
     "cell_type": "code",
     "collapsed": false,
     "input": [
      "for i,spec in enumerate([spec1,spec2,spec3,spec4]):\n",
      "    plot(spec, label=i+1)\n",
      "legend(loc='best')\n",
      "title('master spectra for each region')\n",
      "savefig('master_spectra_in_counts.png',dpi=200)"
     ],
     "language": "python",
     "metadata": {},
     "outputs": [],
     "prompt_number": 36
    },
    {
     "cell_type": "code",
     "collapsed": false,
     "input": [
      "rcParams['lines.linewidth'] = 1.5"
     ],
     "language": "python",
     "metadata": {},
     "outputs": [],
     "prompt_number": 37
    },
    {
     "cell_type": "markdown",
     "metadata": {},
     "source": [
      "### Regions before subtracting."
     ]
    },
    {
     "cell_type": "code",
     "collapsed": false,
     "input": [
      "moon_regions = []\n",
      "moon_regions.append(moon_master_filtered[:36, :])\n",
      "moon_regions.append(moon_master_filtered[37:73, :])\n",
      "moon_regions.append(moon_master_filtered[74:110, :])\n",
      "moon_regions.append(moon_master_filtered[110:,:])"
     ],
     "language": "python",
     "metadata": {},
     "outputs": [],
     "prompt_number": 14
    },
    {
     "cell_type": "markdown",
     "metadata": {},
     "source": [
      "Trying same with the raw master, to see if it has an effect..."
     ]
    },
    {
     "cell_type": "code",
     "collapsed": true,
     "input": [
      "moon_regions_raw = []\n",
      "moon_regions_raw.append(moon_master[:36, :])\n",
      "moon_regions_raw.append(moon_master[37:73, :])\n",
      "moon_regions_raw.append(moon_master[74:110, :])\n",
      "moon_regions_raw.append(moon_master[110:,:])"
     ],
     "language": "python",
     "metadata": {},
     "outputs": [],
     "prompt_number": 115
    },
    {
     "cell_type": "code",
     "collapsed": false,
     "input": [
      "# only if we have them, obviously\n",
      "sky_regions = []\n",
      "sky_regions.append(sky_master_filtered[:36, :])\n",
      "sky_regions.append(sky_master_filtered[37:73, :])\n",
      "sky_regions.append(sky_master_filtered[74:110, :])\n",
      "sky_regions.append(sky_master_filtered[110:, :])"
     ],
     "language": "python",
     "metadata": {},
     "outputs": []
    },
    {
     "cell_type": "code",
     "collapsed": false,
     "input": [
      "# these are the wavelength conversions from pixel number in the wavelegnh\n",
      "waves = pd.read_excel('lucy_spectral_cal.xlsx', parse_cols=0)"
     ],
     "language": "python",
     "metadata": {},
     "outputs": [],
     "prompt_number": 16
    },
    {
     "cell_type": "code",
     "collapsed": false,
     "input": [
      "plot(waves, moon_regions[3].mean(axis=0), label='salt/pepper filtered')\n",
      "plot(waves, moon_regions_raw[3].mean(axis=0), label='raw')"
     ],
     "language": "python",
     "metadata": {},
     "outputs": [
      {
       "metadata": {},
       "output_type": "pyout",
       "prompt_number": 123,
       "text": [
        "[<matplotlib.lines.Line2D at 0x125412090>]"
       ]
      }
     ],
     "prompt_number": 123
    },
    {
     "cell_type": "code",
     "collapsed": false,
     "input": [
      "fig, axes = subplots(nrows=2)\n",
      "for i, moon_region in enumerate(moon_regions):\n",
      "    axes[0].plot(waves, moon_region.mean(axis=0), \n",
      "                 label='moon{}'.format(i+1))\n",
      "axes[0].set_title('Moon regions master spectra')\n",
      "axes[0].legend(loc='best')\n",
      "for i, sky_region in enumerate(sky_regions):\n",
      "    axes[1].plot(waves, sky_region.mean(axis=0),\n",
      "                 label='sky{}'.format(i+1))\n",
      "axes[1].set_title('Sky regions master spectra')\n",
      "axes[1].legend(loc='best')\n",
      "axes[1].set_xlabel('Wavelengths [micron]')\n",
      "axes[0].set_ylabel('Digital counts unscaled')\n",
      "axes[1].set_ylabel('Digital counts unscaled')\n",
      "savefig('moon_and_sky_separated_regions.png', dpi=200)"
     ],
     "language": "python",
     "metadata": {},
     "outputs": [],
     "prompt_number": 113
    },
    {
     "cell_type": "code",
     "collapsed": false,
     "input": [
      "# copied from above, but axes2 removed,\n",
      "# as we don't have sky data\n",
      "for i, moon_region in enumerate(moon_regions):\n",
      "    plot(waves, moon_region.mean(axis=0), \n",
      "                 label='moon{}'.format(i+1))\n",
      "title('Hermite regions master spectra')\n",
      "legend(loc='best')\n",
      "xlabel('Wavelengths [micron]')\n",
      "ylabel('Digital counts unscaled')\n",
      "savefig('hermite_regions_spectra.png', dpi=200)"
     ],
     "language": "python",
     "metadata": {},
     "outputs": [],
     "prompt_number": 21
    },
    {
     "cell_type": "code",
     "collapsed": false,
     "input": [
      "#sky_masters = []\n",
      "#for sky in sky_regions:\n",
      "#    sky_masters.append(sky.mean(axis=0))\n",
      "moon_masters = []\n",
      "for moon in moon_regions:\n",
      "    moon_masters.append(moon.mean(axis=0))"
     ],
     "language": "python",
     "metadata": {},
     "outputs": [],
     "prompt_number": 19
    },
    {
     "cell_type": "code",
     "collapsed": false,
     "input": [
      "fig, axes = subplots(nrows=2)\n",
      "for t in [(4,3),(4,2),(4,1), (3,2), (3,1), (2,1)]:\n",
      "    axes[0].plot(waves, sky_masters[t[0]-1]/sky_masters[t[1]-1],\n",
      "                 label='{}/{}'.format(*t))\n",
      "    axes[1].plot(waves, moon_masters[t[0]-1]/moon_masters[t[1]-1],\n",
      "                 label='{}/{}'.format(*t))\n",
      "axes[0].set_title('Sky regional master spectra ratios')\n",
      "axes[1].set_title('Moon regional master spectra ratios')\n",
      "for ax in axes:\n",
      "    ax.legend(loc='best')\n",
      "axes[0].set_ylim(0.8, 1.2)\n",
      "axes[1].set_ylim(0.8, 1.8)\n",
      "axes[1].set_xlabel(\"Wavelengths [micron]\")\n",
      "savefig('individual_moon_and_sky_ratios.png', dpi=200)"
     ],
     "language": "python",
     "metadata": {},
     "outputs": [],
     "prompt_number": 125
    },
    {
     "cell_type": "code",
     "collapsed": false,
     "input": [
      "# copied from above, but removed sky parts\n",
      "for t in [(4,3),(4,2),(4,1), (3,2), (3,1), (2,1)]:\n",
      "    plot(waves, moon_masters[t[0]-1]/moon_masters[t[1]-1],\n",
      "                 label='{}/{}'.format(*t))\n",
      "title('Hermite regional master spectra ratios')\n",
      "legend(loc='best')\n",
      "xlabel(\"Wavelengths [micron]\")\n",
      "savefig('hermite_ratios.png', dpi=200)"
     ],
     "language": "python",
     "metadata": {},
     "outputs": [],
     "prompt_number": 20
    },
    {
     "cell_type": "code",
     "collapsed": false,
     "input": [
      "fig, axes = subplots(nrows=1)\n",
      "for i in range(4):\n",
      "    axes.plot(waves, moon_masters[i]/sky_masters[i], label=i)\n",
      "axes.legend(loc='best')"
     ],
     "language": "python",
     "metadata": {},
     "outputs": [
      {
       "metadata": {},
       "output_type": "pyout",
       "prompt_number": 132,
       "text": [
        "<matplotlib.legend.Legend at 0x11f7adf90>"
       ]
      }
     ],
     "prompt_number": 132
    },
    {
     "cell_type": "code",
     "collapsed": false,
     "input": [
      "for i in range(0,1000, 100):\n",
      "    plot(moon_master[:, i:i+100].mean(axis=1), label=i)\n",
      "legend(loc='best')"
     ],
     "language": "python",
     "metadata": {},
     "outputs": [
      {
       "metadata": {},
       "output_type": "pyout",
       "prompt_number": 137,
       "text": [
        "<matplotlib.legend.Legend at 0x126a1b950>"
       ]
      }
     ],
     "prompt_number": 137
    },
    {
     "cell_type": "code",
     "collapsed": false,
     "input": [],
     "language": "python",
     "metadata": {},
     "outputs": []
    }
   ],
   "metadata": {}
  }
 ]
}